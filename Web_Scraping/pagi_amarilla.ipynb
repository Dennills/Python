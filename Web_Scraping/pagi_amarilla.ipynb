{
 "cells": [
  {
   "cell_type": "code",
   "execution_count": 1,
   "id": "feda83dc",
   "metadata": {},
   "outputs": [
    {
     "name": "stdout",
     "output_type": "stream",
     "text": [
      "Datos guardados\n"
     ]
    }
   ],
   "source": [
    "from time import sleep\n",
    "from selenium import webdriver\n",
    "from selenium.webdriver.common.by import By\n",
    "from selenium.webdriver.chrome.options import Options\n",
    "from selenium.webdriver.chrome.service import Service\n",
    "from webdriver_manager.chrome import ChromeDriverManager\n",
    "import pandas as pd\n",
    "\n",
    "opts = Options()\n",
    "opts.add_argument(\"user-agent=Mozilla/5.0 (Windows NT 10.0; Win64; x64) AppleWebKit/537.36 (KHTML, like Gecko) Chrome/139.0.7258.127 Safari/537.36\")\n",
    "#opts.add_argument(\"--headless\") #Modo sin ventana\n",
    "\n",
    "driver  = webdriver.Chrome(\n",
    "    service=Service(ChromeDriverManager().install()),\n",
    "    options=opts\n",
    ")\n",
    "\n",
    "url_pagina = \"https://www.paginasamarillas.com.pe/servicios/hoteles\"\n",
    "driver.get(url_pagina)\n",
    "\n",
    "sleep(10)\n",
    "\n",
    "titulos = driver.find_elements(By.XPATH, '//div[contains(@class, \"locality\")]')\n",
    "\n",
    "ubicacion = []\n",
    "for titulo in titulos:\n",
    "    texto = titulo.text.strip()\n",
    "    if texto:\n",
    "        partes = [x.strip() for x in texto.split(\" - \")]\n",
    "        distrito = partes[0] if len(partes) > 0 else \"\"\n",
    "        departamento = partes[1] if len(partes) > 1 else \"\"\n",
    "        pais = partes[2] if len(partes) > 2 else \"\"\n",
    "        ubicacion.append({\n",
    "            \"Distrito\": distrito,\n",
    "            \"Departamento\": departamento,\n",
    "            \"País\": pais\n",
    "        })\n",
    "\n",
    "\n",
    "df = pd.DataFrame(ubicacion)\n",
    "df.to_csv(\"hoteles.csv\", index=False, encoding=\"utf-8-sig\")\n",
    "df.to_excel(\"hoteles1.xlsx\", index=False)\n",
    "\n",
    "print(\"Datos guardados\")\n",
    "\n",
    "driver.quit() "
   ]
  }
 ],
 "metadata": {
  "kernelspec": {
   "display_name": "base",
   "language": "python",
   "name": "python3"
  },
  "language_info": {
   "codemirror_mode": {
    "name": "ipython",
    "version": 3
   },
   "file_extension": ".py",
   "mimetype": "text/x-python",
   "name": "python",
   "nbconvert_exporter": "python",
   "pygments_lexer": "ipython3",
   "version": "3.13.5"
  }
 },
 "nbformat": 4,
 "nbformat_minor": 5
}
